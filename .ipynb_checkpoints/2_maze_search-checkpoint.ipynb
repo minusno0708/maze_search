{
 "cells": [
  {
   "cell_type": "code",
   "execution_count": 1,
   "id": "51b07331",
   "metadata": {},
   "outputs": [],
   "source": [
    "import numpy as np\n",
    "import matplotlib.pyplot as plt"
   ]
  },
  {
   "cell_type": "code",
   "execution_count": 2,
   "id": "fe9f6a68",
   "metadata": {},
   "outputs": [
    {
     "data": {
      "text/plain": [
       "<matplotlib.image.AxesImage at 0x26a2dba2b20>"
      ]
     },
     "execution_count": 2,
     "metadata": {},
     "output_type": "execute_result"
    },
    {
     "data": {
      "image/png": "[encoded data removed]",
      "text/plain": [
       "<Figure size 432x288 with 1 Axes>"
      ]
     },
     "metadata": {
      "needs_background": "light"
     },
     "output_type": "display_data"
    }
   ],
   "source": [
    "maze = np.loadtxt(\"sample_maze.txt\")\n",
    "plt.imshow(maze, cmap = \"binary\")"
   ]
  },
  {
   "cell_type": "code",
   "execution_count": 85,
   "id": "21887c44",
   "metadata": {},
   "outputs": [],
   "source": [
    "def get_route(x):\n",
    "    list = np.array([])\n",
    "    neighbor = np.array([\n",
    "        [x[0], x[1]+1],\n",
    "        [x[0]+1, x[1]],\n",
    "        [x[0], x[1]-1],\n",
    "        [x[0]-1, x[1]]\n",
    "    ])\n",
    "    \n",
    "    for i in neighbor:\n",
    "        print(i, maze[i[0], i[1]])\n",
    "        if not maze[i[0], i[1]]:\n",
    "            list = np.append(list, [i[0], i[1]])\n",
    "            \n",
    "    list = np.reshape(list, [len(list) // 2, 2])\n",
    "    return list"
   ]
  },
  {
   "cell_type": "code",
   "execution_count": 86,
   "id": "60c90753",
   "metadata": {},
   "outputs": [
    {
     "name": "stdout",
     "output_type": "stream",
     "text": [
      "[4 2] 0.0\n",
      "[5 1] 0.0\n",
      "[4 0] 1.0\n",
      "[3 1] 0.0\n",
      "[[4. 2.]\n",
      " [5. 1.]\n",
      " [3. 1.]]\n"
     ]
    }
   ],
   "source": [
    "start = np.array([4, 1])\n",
    "print(next(start))"
   ]
  },
  {
   "cell_type": "code",
   "execution_count": 78,
   "id": "453fd703",
   "metadata": {},
   "outputs": [
    {
     "data": {
      "text/plain": [
       "array([[None, None, None, None, None, None, None, None, None],\n",
       "       [None, 100, 100, 100, 100, None, 100, 100, None],\n",
       "       [None, 100, None, None, 100, None, None, 100, None],\n",
       "       [None, 100, None, None, None, None, None, 100, None],\n",
       "       [None, 100, 100, 100, 100, 100, 100, 100, None],\n",
       "       [None, 100, None, None, None, 100, None, 100, None],\n",
       "       [None, 100, None, 100, None, 100, None, 100, None],\n",
       "       [None, 100, 100, 100, None, 100, None, 100, None],\n",
       "       [None, None, None, None, None, None, None, None, None]],\n",
       "      dtype=object)"
      ]
     },
     "execution_count": 78,
     "metadata": {},
     "output_type": "execute_result"
    }
   ],
   "source": [
    "np.where(maze > 0, None, 100)"
   ]
  },
  {
   "cell_type": "code",
   "execution_count": 220,
   "id": "d3cc7d29",
   "metadata": {},
   "outputs": [
    {
     "name": "stdout",
     "output_type": "stream",
     "text": [
      "[1. 2. 2. 1.]\n"
     ]
    }
   ],
   "source": [
    "x = np.array([1, 1])\n",
    "list = np.array([])\n",
    "neighbor = np.array([\n",
    "    [x[0], x[1]+1],\n",
    "    [x[0]+1, x[1]],\n",
    "    [x[0], x[1]-1],\n",
    "    [x[0]-1, x[1]]\n",
    "])\n",
    "\n",
    "for i in neighbor:\n",
    "    if not maze[i[0], i[1]]:\n",
    "        list = np.append(list, i)\n",
    "        \n",
    "list = list.reshape()\n",
    "print(list)"
   ]
  },
  {
   "cell_type": "code",
   "execution_count": 200,
   "id": "42e8b392",
   "metadata": {},
   "outputs": [
    {
     "data": {
      "text/plain": [
       "array([ True,  True, False, False])"
      ]
     },
     "execution_count": 200,
     "metadata": {},
     "output_type": "execute_result"
    }
   ],
   "source": [
    "a = maze[neighbor[:, 0], [neighbor[:, 1]]] < 1\n",
    "a.reshape(4)"
   ]
  },
  {
   "cell_type": "code",
   "execution_count": 209,
   "id": "7567632b",
   "metadata": {},
   "outputs": [
    {
     "data": {
      "text/plain": [
       "array([[1., 2., 2., 1.]])"
      ]
     },
     "execution_count": 209,
     "metadata": {},
     "output_type": "execute_result"
    }
   ],
   "source": [
    "list"
   ]
  },
  {
   "cell_type": "code",
   "execution_count": null,
   "id": "182acba9",
   "metadata": {},
   "outputs": [],
   "source": []
  }
 ],
 "metadata": {
  "kernelspec": {
   "display_name": "Python 3 (ipykernel)",
   "language": "python",
   "name": "python3"
  },
  "language_info": {
   "codemirror_mode": {
    "name": "ipython",
    "version": 3
   },
   "file_extension": ".py",
   "mimetype": "text/x-python",
   "name": "python",
   "nbconvert_exporter": "python",
   "pygments_lexer": "ipython3",
   "version": "3.9.12"
  }
 },
 "nbformat": 4,
 "nbformat_minor": 5
}
