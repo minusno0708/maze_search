{
 "cells": [
  {
   "cell_type": "code",
   "execution_count": 7,
   "id": "51b07331",
   "metadata": {},
   "outputs": [],
   "source": [
    "import time\n",
    "\n",
    "import numpy as np\n",
    "import matplotlib.pyplot as plt"
   ]
  },
  {
   "cell_type": "code",
   "execution_count": 8,
   "id": "fe9f6a68",
   "metadata": {},
   "outputs": [
    {
     "data": {
      "text/plain": [
       "<matplotlib.image.AxesImage at 0x1993f7181f0>"
      ]
     },
     "execution_count": 8,
     "metadata": {},
     "output_type": "execute_result"
    },
    {
     "data": {
      "image/png": "[encoded data removed]",
      "text/plain": [
       "<Figure size 432x288 with 1 Axes>"
      ]
     },
     "metadata": {
      "needs_background": "light"
     },
     "output_type": "display_data"
    }
   ],
   "source": [
    "maze = np.loadtxt(\"sample_maze.txt\")\n",
    "plt.imshow(maze, cmap = \"binary\")"
   ]
  },
  {
   "cell_type": "code",
   "execution_count": 30,
   "id": "141b9c5e",
   "metadata": {},
   "outputs": [],
   "source": [
    "class cell():\n",
    "    def __init__(self, place, cost):\n",
    "        self.place = np.array([place[0], place[1]])\n",
    "        self.cost = cost    "
   ]
  },
  {
   "cell_type": "code",
   "execution_count": 217,
   "id": "da1c0e10",
   "metadata": {},
   "outputs": [],
   "source": [
    "class list():\n",
    "    list = np.array([])\n",
    "    \n",
    "    def push(self, place, cost):\n",
    "        for i in range(len(self.list)):\n",
    "            if (self.list[i].place == place).all():\n",
    "                if self.list[i].cost > cost:\n",
    "                    self.list[i].cost = cost\n",
    "                \n",
    "                return -1\n",
    "            \n",
    "        self.list = np.append(self.list, cell(place, cost))\n",
    "        \n",
    "    def pop(self, x):\n",
    "        if len(self.list) > x:\n",
    "            temp = self.list[x]\n",
    "            self.list = np.delete(self.list, x)\n",
    "            return temp.place, temp.cost\n",
    "        else:\n",
    "            print(f\"{x} is not exist\")\n",
    "            \n",
    "            \n",
    "    def sort(self):\n",
    "        for i in range(len(self.list)-1):\n",
    "            if(self.list[i].cost > self.list[i+1].cost):\n",
    "                self.list[i], self.list[i+1] = self.list[i+1], self.list[i]\n",
    "        \n",
    "    def show(self):\n",
    "        for i in range(len(self.list)):\n",
    "            print(self.list[i].place, end=\",\")\n",
    "            print(self.list[i].cost)"
   ]
  },
  {
   "cell_type": "code",
   "execution_count": 216,
   "id": "5e55202a",
   "metadata": {},
   "outputs": [
    {
     "name": "stdout",
     "output_type": "stream",
     "text": [
      "[2 2],1\n",
      "[0 1],3\n",
      "[0 1],4\n"
     ]
    }
   ],
   "source": [
    "test = list()\n",
    "test.push([0, 1], 4)\n",
    "test.push([2, 2], 1)\n",
    "test.push([0, 1], 3)\n",
    "test.sort()\n",
    "test.show()"
   ]
  },
  {
   "cell_type": "code",
   "execution_count": 8,
   "id": "26deda7b",
   "metadata": {},
   "outputs": [],
   "source": [
    "#幅優先探索\n",
    "def width_search():\n",
    "    openlist = np.array([[1, 1]])\n",
    "    closedlist = np.array([[]])\n",
    "    \n",
    "    count = 0\n",
    "    while(1):\n",
    "        count +=1\n",
    "        #x = openlist[len(openlist)-1]\n",
    "        x = openlist[0]\n",
    "        openlist = np.append(openlist, get_route(x), axis=0)\n",
    "        closedlist = np.append(closedlist, x)\n",
    "        openlist, closedlist = remove_route(openlist, closedlist)\n",
    "        \n",
    "        if np.any(np.prod(closedlist == [len(maze)-2, len(maze)-2], axis=1)) or len(openlist) == 0:\n",
    "            break\n",
    "            \n",
    "    return count, closedlist"
   ]
  },
  {
   "cell_type": "code",
   "execution_count": 44,
   "id": "1f1d3b1e",
   "metadata": {},
   "outputs": [],
   "source": [
    "def optimal_search():\n",
    "    openlist = np.array([[1, 1]])\n",
    "    closedlist = np.array([[]])\n",
    "    costlist = np.array([[]])\n",
    "    \n",
    "    count = 0\n",
    "    while(1):\n",
    "        count +=1\n",
    "        templist = np.copy(openlist)\n",
    "        for x in openlist:\n",
    "            templist = np.append(templist, get_route(x), axis=0)\n",
    "            closedlist = np.append(closedlist, x)\n",
    "            costlist = np.append(costlist, [x, count])\n",
    "        openlist = np.copy(templist)\n",
    "        openlist, closedlist = remove_route(openlist, closedlist)\n",
    "        \n",
    "        if np.any(np.prod(closedlist == [len(maze)-2, len(maze)-2], axis=1)) or len(openlist) == 0:\n",
    "            break\n",
    "            \n",
    "    #costlist = np.reshape(costlist, [len(costlist) // 3, 3])\n",
    "    return count, costlist"
   ]
  },
  {
   "cell_type": "code",
   "execution_count": null,
   "id": "21887c44",
   "metadata": {},
   "outputs": [],
   "source": [
    "#隣接するセルの取得\n",
    "def get_neighbor(x):\n",
    "    list = np.array([])\n",
    "    neighbor = np.array([\n",
    "        [x[0], x[1]+1],\n",
    "        [x[0]+1, x[1]],\n",
    "        [x[0], x[1]-1],\n",
    "        [x[0]-1, x[1]]\n",
    "    ])\n",
    "    \n",
    "    for i in neighbor:\n",
    "        if not maze[i[0], i[1]]:\n",
    "            list = np.append(list, [i[0], i[1]])\n",
    "            \n",
    "    list = np.reshape(list, [len(list) // 2, 2])\n",
    "    return list.astype(np.int8)"
   ]
  },
  {
   "cell_type": "code",
   "execution_count": 232,
   "id": "b5b4001f",
   "metadata": {},
   "outputs": [
    {
     "ename": "AttributeError",
     "evalue": "'numpy.ndarray' object has no attribute 'show'",
     "output_type": "error",
     "traceback": [
      "\u001b[1;31m---------------------------------------------------------------------------\u001b[0m",
      "\u001b[1;31mAttributeError\u001b[0m                            Traceback (most recent call last)",
      "Input \u001b[1;32mIn [232]\u001b[0m, in \u001b[0;36m<cell line: 9>\u001b[1;34m()\u001b[0m\n\u001b[0;32m      7\u001b[0m x \u001b[38;5;241m=\u001b[39m \u001b[38;5;241m0\u001b[39m\n\u001b[0;32m      8\u001b[0m test \u001b[38;5;241m=\u001b[39m openlist\u001b[38;5;241m.\u001b[39mlist\n\u001b[1;32m----> 9\u001b[0m \u001b[43mtest\u001b[49m\u001b[38;5;241;43m.\u001b[39;49m\u001b[43mshow\u001b[49m()\n",
      "\u001b[1;31mAttributeError\u001b[0m: 'numpy.ndarray' object has no attribute 'show'"
     ]
    }
   ],
   "source": [
    "openlist = list()\n",
    "closedlist = list()\n",
    "\n",
    "openlist.push([1, 1], 0)\n",
    "openlist.push([1, 2], 1)\n",
    "\n",
    "x = 0\n",
    "test = openlist.list\n",
    "test."
   ]
  },
  {
   "cell_type": "code",
   "execution_count": 45,
   "id": "9b4588c4",
   "metadata": {},
   "outputs": [],
   "source": [
    "count, list = optimal_search()"
   ]
  },
  {
   "cell_type": "code",
   "execution_count": 19,
   "id": "7b3ea5e9",
   "metadata": {},
   "outputs": [
    {
     "ename": "IndexError",
     "evalue": "index 2 is out of bounds for axis 0 with size 2",
     "output_type": "error",
     "traceback": [
      "\u001b[1;31m---------------------------------------------------------------------------\u001b[0m",
      "\u001b[1;31mIndexError\u001b[0m                                Traceback (most recent call last)",
      "Input \u001b[1;32mIn [19]\u001b[0m, in \u001b[0;36m<cell line: 4>\u001b[1;34m()\u001b[0m\n\u001b[0;32m      2\u001b[0m fig \u001b[38;5;241m=\u001b[39m plt\u001b[38;5;241m.\u001b[39mfigure()\n\u001b[0;32m      4\u001b[0m \u001b[38;5;28;01mfor\u001b[39;00m i \u001b[38;5;129;01min\u001b[39;00m \u001b[38;5;28mlist\u001b[39m:\n\u001b[1;32m----> 5\u001b[0m     serched_maze[\u001b[38;5;28mint\u001b[39m(i[\u001b[38;5;241m0\u001b[39m]), \u001b[38;5;28mint\u001b[39m(i[\u001b[38;5;241m1\u001b[39m])] \u001b[38;5;241m=\u001b[39m \u001b[38;5;28mint\u001b[39m(\u001b[43mi\u001b[49m\u001b[43m[\u001b[49m\u001b[38;5;241;43m2\u001b[39;49m\u001b[43m]\u001b[49m)\n\u001b[0;32m      6\u001b[0m plt\u001b[38;5;241m.\u001b[39mimshow(serched_maze)\n\u001b[0;32m      7\u001b[0m plt\u001b[38;5;241m.\u001b[39mshow()\n",
      "\u001b[1;31mIndexError\u001b[0m: index 2 is out of bounds for axis 0 with size 2"
     ]
    },
    {
     "data": {
      "text/plain": [
       "<Figure size 432x288 with 0 Axes>"
      ]
     },
     "metadata": {},
     "output_type": "display_data"
    }
   ],
   "source": [
    "serched_maze = np.copy(maze)\n",
    "fig = plt.figure()\n",
    "\n",
    "for i in list:\n",
    "    serched_maze[int(i[0]), int(i[1])] = int(i[2])\n",
    "plt.imshow(serched_maze)\n",
    "plt.show()\n",
    "plt.close()"
   ]
  },
  {
   "cell_type": "code",
   "execution_count": 46,
   "id": "e846c028",
   "metadata": {},
   "outputs": [
    {
     "data": {
      "text/plain": [
       "array([1, 1])"
      ]
     },
     "execution_count": 46,
     "metadata": {},
     "output_type": "execute_result"
    }
   ],
   "source": [
    "list[0]"
   ]
  },
  {
   "cell_type": "code",
   "execution_count": null,
   "id": "843015e5",
   "metadata": {},
   "outputs": [],
   "source": []
  }
 ],
 "metadata": {
  "kernelspec": {
   "display_name": "Python 3 (ipykernel)",
   "language": "python",
   "name": "python3"
  },
  "language_info": {
   "codemirror_mode": {
    "name": "ipython",
    "version": 3
   },
   "file_extension": ".py",
   "mimetype": "text/x-python",
   "name": "python",
   "nbconvert_exporter": "python",
   "pygments_lexer": "ipython3",
   "version": "3.9.12"
  }
 },
 "nbformat": 4,
 "nbformat_minor": 5
}
